{
 "cells": [
  {
   "cell_type": "markdown",
   "id": "79bc9d6017ab9ad8",
   "metadata": {},
   "source": "The idea of the project came from a necessity to know how individual items of the menu perform in sales of a rapidly growing Food Startup. It was unclear what to expect in the future and what to put emphasis on when updating the menu. The project is to tell the story behind the data. The additional use of the project that came along was to automate the supply chain by forecasting use of ingredients from all-messy collection of sales data (in food business the more high-end the cuisine is, the more complex the supply chain gets as individual ingredients may take days in preparation since the order is placed). To avoid sensitive data, let's exclude the corporate order inputs but keep the corresponding modules as part of the code."
  },
  {
   "cell_type": "markdown",
   "id": "9f78a5c02882814c",
   "metadata": {},
   "source": [
    "Starting off with importing all the necessary libraries and modules"
   ]
  },
  {
   "cell_type": "code",
   "id": "8dea60462685f11f",
   "metadata": {
    "ExecuteTime": {
     "end_time": "2025-10-22T10:48:38.926364Z",
     "start_time": "2025-10-22T10:48:38.921053Z"
    }
   },
   "source": [
    "#!/usr/bin/env python3\n",
    "import math\n",
    "import matplotlib.pyplot as plt\n",
    "import re\n",
    "import numpy as np\n",
    "import os\n",
    "import pandas as pd\n",
    "from PIL import Image\n",
    "import pytesseract #optical character recognition model\n",
    "from pdf2image import convert_from_path\n",
    "import tempfile\n",
    "import fitz\n",
    "from statsmodels.nonparametric.smoothers_lowess import lowess\n",
    "import statsmodels.api as sm\n",
    "import matplotlib.pyplot as plt\n",
    "from statsmodels.tsa.seasonal import STL"
   ],
   "outputs": [],
   "execution_count": 409
  },
  {
   "cell_type": "markdown",
   "id": "efffedfac84a53cd",
   "metadata": {},
   "source": [
    "Declaring global variables, setting up methods"
   ]
  },
  {
   "cell_type": "code",
   "id": "c75714d2cf84cca5",
   "metadata": {
    "ExecuteTime": {
     "end_time": "2025-10-22T10:48:38.941113Z",
     "start_time": "2025-10-22T10:48:38.938001Z"
    }
   },
   "source": [
    "current_dir = os.path.dirname(os.path.abspath(\"ingredientUseForecast.ipynb\"))\n",
    "pd.set_option(\"mode.copy_on_write\", True)\n",
    "files_and_dirs = os.listdir(current_dir)\n",
    "pytesseract.pytesseract.tesseract_cmd = r\"/opt/homebrew/bin/tesseract\"\n",
    "\n",
    "\n",
    "daily_distribution={'Monday':0.15,'Tuesday':0.15,'Wednesday':0.10,'Thursday':0.20,'Friday':0.20,'Saturday':0.15,'Sunday':0.10} #distribution of weekly sales by days; will be explained further down\n",
    "days = ['Monday','Tuesday','Wednesday','Thursday','Friday','Saturday','Sunday']\n",
    "modifiers_of_position_in_combo = {'Extra hot','No pickles', 'No salad','No sauce', 'Toncutlet sauce', 'Curry sauce'} #will rarely variate and is embedded in code for simplicity\n",
    "corporate_counter=0"
   ],
   "outputs": [],
   "execution_count": 410
  },
  {
   "cell_type": "markdown",
   "id": "222a6864eddc3147",
   "metadata": {},
   "source": [
    "The project consists of several files for a user to interact with. 'unit_category' as a list of menu items we want to look at and whether to forecast their sales or to use an adapted mean; 'ingredients_base' is tables of ingredients and amounts for each item; 'measure conversion' is a table with ingredients and the ratio units of stock measure vs units of measure in recipes;\n",
    "\n",
    "The sales data are contained in such: the 'items-...' file where each record represents individual sale; 'rs-items_sold...' a file with 'Delivery' sales in one of the shops, requires separate integration; + two types of .pdf files, containing Corporate orders from two platforms, these files require image-text recognition and separate integration too."
   ]
  },
  {
   "cell_type": "code",
   "id": "5088e269b4034fed",
   "metadata": {
    "ExecuteTime": {
     "end_time": "2025-10-22T10:48:38.954780Z",
     "start_time": "2025-10-22T10:48:38.944173Z"
    }
   },
   "source": [
    "def pull_unit_categories():\n",
    "    df = pd.read_csv(current_dir+'/'+'unit_category.csv', encoding='utf-8' , sep = ',', low_memory=False)\n",
    "    shops = df['Location'].unique()\n",
    "    units_to_forecast = {shop: [] for shop in shops}\n",
    "    units_to_baseline = {shop: [] for shop in shops}\n",
    "    units_to_ignore = {shop: [] for shop in shops}\n",
    "\n",
    "    for _, row in df.iterrows():\n",
    "        shop = row['Location']\n",
    "        category = row['Category']\n",
    "        item = row['Item']\n",
    "        if category == 'Forecast':\n",
    "            units_to_forecast[shop].append(item)\n",
    "        elif category == 'Baseline':\n",
    "            units_to_baseline[shop].append(item)\n",
    "        elif category == 'Ignore':\n",
    "            units_to_ignore[shop].append(item)\n",
    "\n",
    "    return units_to_forecast, units_to_baseline, units_to_ignore\n",
    "units_to_forecast, units_to_baseline, units_to_ignore = pull_unit_categories()"
   ],
   "outputs": [],
   "execution_count": 411
  },
  {
   "cell_type": "code",
   "id": "7054e984bdb3581",
   "metadata": {
    "ExecuteTime": {
     "end_time": "2025-10-22T10:48:38.959075Z",
     "start_time": "2025-10-22T10:48:38.957207Z"
    }
   },
   "source": [
    "def pull_sales():\n",
    "    df = pd.DataFrame()\n",
    "    for filename in files_and_dirs:\n",
    "        if filename.startswith('items-'):\n",
    "            df = pd.concat([df, pd.DataFrame(pd.read_csv(current_dir+'/'+filename, encoding='utf-8' , sep = ',', low_memory=False))], axis = 'rows', ignore_index=True)\n",
    "    if df.empty:\n",
    "        raise Exception(\"No Sales Record file(s) found in the algorithm directory\")\n",
    "    print(df)\n",
    "    df = df.sort_values(by='Date')\n",
    "    df['Date'] = pd.to_datetime(df['Date'],format='%Y-%m-%d', errors='coerce').dt.date\n",
    "    return df"
   ],
   "outputs": [],
   "execution_count": 412
  },
  {
   "cell_type": "markdown",
   "id": "21131523b3d7ce3c",
   "metadata": {},
   "source": [
    "For data cleaning purposes, will create a function to adapt data to naming conventions:"
   ]
  },
  {
   "cell_type": "code",
   "id": "459b041c56b9635d",
   "metadata": {
    "ExecuteTime": {
     "end_time": "2025-10-22T10:48:38.963041Z",
     "start_time": "2025-10-22T10:48:38.961121Z"
    }
   },
   "source": [
    "def df_no_emoji(df_input, columns):\n",
    "    for col in columns:\n",
    "        for name in df_input[col].unique().tolist():\n",
    "            if not pd.notna(name):\n",
    "                continue\n",
    "            newname = name.strip().replace('CanoWater', 'Water').replace('Shop1','').replace('  ',' ')\n",
    "            for i in name:\n",
    "                if ord(i) > 2070:\n",
    "                    newname = newname.replace(i, '')\n",
    "            if ',' not in newname:\n",
    "                df_input.loc[df_input[col] == name, col] = newname.strip().casefold().capitalize()\n",
    "            else:\n",
    "                substr = newname.split(',')\n",
    "                df_input.loc[df_input[col] == name, col] = ','.join([s.strip().casefold().capitalize() for s in substr])\n",
    "    return df_input"
   ],
   "outputs": [],
   "execution_count": 413
  },
  {
   "cell_type": "markdown",
   "id": "ec30c370d4a5f7ec",
   "metadata": {},
   "source": [
    "Another data cleaning procedure is to adapt sales of 'Combo' item, where a single sale record represents more than 1 item sold:"
   ]
  },
  {
   "cell_type": "code",
   "id": "977e6f767da93025",
   "metadata": {
    "ExecuteTime": {
     "end_time": "2025-10-22T10:48:38.968600Z",
     "start_time": "2025-10-22T10:48:38.964772Z"
    }
   },
   "source": [
    "def combo_handling(df, main_pos, mods):\n",
    "    combos = pd.concat([df.loc[df['Item'].str.find('Combo') != -1],df.loc[df['Item'].str.find('combo') != -1]] ,axis = 0, ignore_index=True)\n",
    "    combos = pd.concat([combos, df.loc[df['Item'].str.find('COMBO') != -1]], axis=0,ignore_index=True)\n",
    "    df_combos = pd.DataFrame()\n",
    "    for i in range(0,len(combos)):\n",
    "        combo = combos.iloc[i]\n",
    "        modifiers = {item.strip() for item in combo['Modifiers Applied'].split(',')}\n",
    "        for each in modifiers:\n",
    "            if each in mods:\n",
    "                continue\n",
    "            if each in main_pos:\n",
    "                modi = list(modifiers.intersection(mods))[0] if len(modifiers.intersection(mods))>0 else np.nan\n",
    "                new_item = {'Date': combo['Date'], 'Time':combo['Time'],\n",
    "                            'Item': each, 'Qty': combo['Qty'],'Modifiers Applied':modi, 'Location': combo['Location'],\n",
    "                            'Itemisation Type': combo['Itemisation Type']}\n",
    "            else:\n",
    "                new_item = {'Date': combo['Date'], 'Time':combo['Time'],\n",
    "                            'Item': each, 'Qty': combo['Qty'], 'Location':combo['Location'], 'Itemisation Type':combo['Itemisation Type']}\n",
    "            df_combos = pd.concat([df_combos, pd.DataFrame([new_item])], axis = 'rows', ignore_index=True)\n",
    "    df = df.loc[(df['Item'].str.find('Combo') == -1)&(df['Item'].str.find('combo') == -1)&(df['Item'].str.find('COMBO') == -1)]\n",
    "    return pd.concat([df, df_combos], axis = 0, ignore_index=True)\n"
   ],
   "outputs": [],
   "execution_count": 414
  },
  {
   "cell_type": "markdown",
   "id": "e46962b8f0ace0e2",
   "metadata": {},
   "source": [
    "Proceeding to pull sales data:"
   ]
  },
  {
   "cell_type": "code",
   "id": "477529ed3a491fa8",
   "metadata": {
    "ExecuteTime": {
     "end_time": "2025-10-22T10:48:38.972980Z",
     "start_time": "2025-10-22T10:48:38.970554Z"
    }
   },
   "source": [
    "def shop2_del_handling(df_input, total_count):\n",
    "    df_shop2_del = pd.DataFrame()\n",
    "\n",
    "    dates = pd.Series(df_input['Date'])\n",
    "\n",
    "    dates = [day.strftime('%d-%m-%Y') for day in dates.unique().tolist()]\n",
    "\n",
    "    if 'rs-items_sold-report_{}_{}.csv'.format(dates[0], dates[-1]) in files_and_dirs:\n",
    "        df_shop2_del = pd.read_csv(current_dir+'/'+'rs-items_sold-report_{}_{}.csv'.format(dates[0],dates[-1]))\n",
    "    elif not total_count:\n",
    "        return df_shop2_del\n",
    "    else:\n",
    "        for date1 in dates:\n",
    "            for date2 in dates:\n",
    "                if 'rs-items_sold-report_{}_{}.csv'.format(date1, date2) in files_and_dirs:\n",
    "                    to_app = pd.read_csv(current_dir+'/'+'rs-items_sold-report_{}_{}.csv'.format(date1,date2))\n",
    "                    df_shop2_del = pd.concat([df_shop2_del, to_app], ignore_index=True)\n",
    "    df_shop2_del = df_shop2_del[['Item name', 'Quantity']]\n",
    "\n",
    "    for name in df_shop2_del['Item name'].unique().tolist():\n",
    "        #adjustment to naming conventions\n",
    "        newname = name.casefold().capitalize()\n",
    "        newname = newname.replace('Crispy chicken skin','Chicken skin')\n",
    "        newname = newname.replace('Cold sake can','Sake can')\n",
    "        newname = newname.replace('Butter zucchinis','Grilled zucchinis')\n",
    "        newname = newname.replace('Green tea','Ice green tee')\n",
    "        newname = newname.replace('Coca-cola','Coca cola')\n",
    "        df_shop2_del.loc[df_shop2_del['Item name'] == name, 'Item name'] = newname\n",
    "    return df_shop2_del"
   ],
   "outputs": [],
   "execution_count": 415
  },
  {
   "cell_type": "markdown",
   "id": "527decc33453d31a",
   "metadata": {},
   "source": [
    "The two platforms in question have a different way of presenting the orders and do not provide accounting instruments, therefore processing requires separate algorithms:"
   ]
  },
  {
   "cell_type": "code",
   "id": "f999e490baa6e86d",
   "metadata": {
    "ExecuteTime": {
     "end_time": "2025-10-22T10:48:38.977237Z",
     "start_time": "2025-10-22T10:48:38.974559Z"
    }
   },
   "source": [
    "def justeat_handling(filename):\n",
    "    os.makedirs(current_dir + '/temp_images', exist_ok=True)\n",
    "\n",
    "    images_text = []\n",
    "\n",
    "    pages = convert_from_path(current_dir + '/' + filename,  poppler_path=\"/opt/homebrew/bin\")\n",
    "    df_catering = pd.DataFrame()\n",
    "    for page_num, page in enumerate(pages):\n",
    "        with tempfile.NamedTemporaryFile(dir=(current_dir + '/temp_images'), delete=False) as temp_image:\n",
    "            page.save(temp_image, 'JPEG')\n",
    "            temp_image_path = temp_image.name\n",
    "\n",
    "        img = Image.open(temp_image_path)\n",
    "        text = pytesseract.image_to_string(img)\n",
    "        images_text.append(text)\n",
    "\n",
    "        os.remove(temp_image_path)\n",
    "    for item in images_text:\n",
    "        item = item.replace('\\n\\n', '\\n').split('\\n')[1:4]\n",
    "        item.pop(1)\n",
    "        item[0] = item[0].replace('Can\\'o\\'Water',' ').replace('-',' ')\n",
    "        item[1] = pd.to_datetime((item[1][0:-2]+'20'+item[1][-2:]).replace('/','-'), format='%d-%m-%Y', errors='coerce')\n",
    "        time = '10:00:0'+str(corporate_counter%10)\n",
    "        item_key = {'Date':item[1],'Time':time,'Item':item[0],'Qty':1,'Modifiers Applied':np.nan,'Location':'Shop1','Itemisation Type':'Catering'}\n",
    "        df_catering = pd.concat([df_catering,pd.DataFrame([item_key])],ignore_index=True)\n",
    "    df_catering['Date'] = df_catering['Date'].dt.date\n",
    "    return df_catering"
   ],
   "outputs": [],
   "execution_count": 416
  },
  {
   "cell_type": "code",
   "id": "a088c8ac59263dc",
   "metadata": {
    "ExecuteTime": {
     "end_time": "2025-10-22T10:48:38.981683Z",
     "start_time": "2025-10-22T10:48:38.979290Z"
    }
   },
   "source": [
    "def feedr_handling(filename):\n",
    "    df_catering = pd.DataFrame()\n",
    "    feedr = fitz.open(filename)\n",
    "    general_data = feedr.load_page(0).get_text()\n",
    "    date_pattern = r'Date: (\\d{2} \\w{3} \\d{2})'\n",
    "    match = re.search(date_pattern, general_data)\n",
    "    date = match.group(1)\n",
    "    date = pd.to_datetime(date, format='%d %b %y')\n",
    "    store_name_pattern = re.compile(r'Total Value: £(?P<total_value>\\d+\\.\\d{2})\\n(?P<location_name>.+)\\n')\n",
    "    match = re.search(store_name_pattern, general_data)\n",
    "    store_name = match.group('location_name')\n",
    "    time = '10:00:0'+str(corporate_counter%10)\n",
    "    for pagenum in range(len(feedr)):\n",
    "        page = feedr.load_page(pagenum)\n",
    "        text = page.get_text()\n",
    "        text = text[text.index('Credits')+7 if 'Credits' in text else 0:]\n",
    "        pattern = re.compile(r'(?P<issuer>[A-Za-z\\s]+)\\s(?P<qty>\\d+)\\s(?P<description>(?:.|\\n)+?)\\s*\\s#(?P<item_number>\\d+)\\n(?P<price>\\d+\\.\\d{2})')\n",
    "        matches = pattern.findall(text.strip())\n",
    "        for match in matches:\n",
    "            issuer, qty, name, item_number, price = match\n",
    "            if '(' in name:\n",
    "                name = name[0:name.index('(')].replace('\\'','')\n",
    "            name = name.strip().casefold().capitalize()\n",
    "            item_key = {'Date': date, 'Time': time, 'Item': name, 'Qty': int(qty), 'Modifiers Applied': np.nan,\n",
    "                    'Location': store_name, 'Itemisation Type': 'Catering'}\n",
    "            df_catering = pd.concat([df_catering, pd.DataFrame([item_key])], ignore_index=True)\n",
    "    df_catering['Date'] = df_catering['Date'].dt.date\n",
    "    return df_catering"
   ],
   "outputs": [],
   "execution_count": 417
  },
  {
   "cell_type": "markdown",
   "id": "7e9412669e3e872f",
   "metadata": {},
   "source": [
    "And a general .pdf sorting function:"
   ]
  },
  {
   "cell_type": "code",
   "id": "fc6bf50106177cf3",
   "metadata": {
    "ExecuteTime": {
     "end_time": "2025-10-22T10:48:38.985390Z",
     "start_time": "2025-10-22T10:48:38.983436Z"
    }
   },
   "source": [
    "def corporate_handling(df):\n",
    "    global corporate_counter\n",
    "    df_to_append = pd.DataFrame()\n",
    "    for filename in files_and_dirs:\n",
    "        if '.pdf' in filename:\n",
    "            corporate_counter+=1\n",
    "            document = fitz.open(filename)\n",
    "            page = document.load_page(0)\n",
    "            text = page.get_text()\n",
    "            if not text:\n",
    "                df_to_append = pd.concat([df_to_append,justeat_handling(filename)],ignore_index=True)\n",
    "            else:\n",
    "                df_to_append = pd.concat([df_to_append,feedr_handling(filename)],ignore_index=True)\n",
    "    try:\n",
    "        result = pd.concat([df_no_emoji(df_to_append, ['Item']),df], ignore_index=True)\n",
    "        result['Date'] = pd.to_datetime(result['Date'])\n",
    "        result['Date'] = result['Date'].dt.date\n",
    "        return result\n",
    "    except Exception:\n",
    "        print(\"No catering records found\")\n",
    "        return df"
   ],
   "outputs": [],
   "execution_count": 418
  },
  {
   "cell_type": "markdown",
   "id": "b270489790ea146e",
   "metadata": {},
   "source": [
    "Having sales records clean, we can proceed with a function to pivot by day sales of each item:"
   ]
  },
  {
   "cell_type": "code",
   "id": "2c58d6f54257f521",
   "metadata": {
    "ExecuteTime": {
     "end_time": "2025-10-22T10:48:38.991006Z",
     "start_time": "2025-10-22T10:48:38.987069Z"
    }
   },
   "source": [
    "\n",
    "def df_pivoting(df_input, total_count= False):\n",
    "    for item in df_input['Item'].unique().tolist():\n",
    "        df_input.loc[df_input['Item'] == item, 'Item'] = item.casefold().capitalize()\n",
    "\n",
    "    df_shop2_del = pd.DataFrame()\n",
    "    if 'Shop2' in df_input['Location'].unique().tolist():\n",
    "        df_shop2_del = shop2_del_handling(df_input, total_count)\n",
    "\n",
    "    df_pivot = pd.DataFrame()\n",
    "    lst = df_input['Item'].unique().tolist()\n",
    "    for item in lst :\n",
    "        if df_shop2_del.empty:\n",
    "            quantity_sum = 0\n",
    "        else:\n",
    "            quantity_sum = df_shop2_del.loc[df_shop2_del['Item name'] == item, 'Quantity'].sum()\n",
    "        item_key = {'Name': item,\n",
    "                    'Quantity_InHouse': df_input.loc[(df_input['Item'] == item)\n",
    "                                                     & ((df_input['Itemisation Type'] == 'Physical Item')\n",
    "                                                        | (df_input['Itemisation Type'].isnull()))]['Qty'].sum(),\n",
    "                    'Quantity_OnDelivery': df_input.loc[(df_input['Item'] == item)\n",
    "                                                        & (df_input[\n",
    "                                                               'Itemisation Type'] == 'Prepared Food and Beverage')][\n",
    "                                                        'Qty'].sum() + quantity_sum,\n",
    "                    'Quantity_Corporate': df_input.loc[(df_input['Item'] == item)\n",
    "                                                     & (df_input['Itemisation Type'] == 'Catering')]['Qty'].sum(),\n",
    "                    }\n",
    "\n",
    "        # 'Itemisation Type' == 'Prepared Food and Beverage' -> Delivery\n",
    "        # 'Itemisation Type' == 'Physical Item' -> In House\n",
    "        # 'Itemisation Type' == Blank -> Custom Amount\n",
    "        df_input.loc[df_input['Modifiers Applied']=='Toncutlet sauce', 'Modifiers Applied'] = 'Toncutlet'\n",
    "        df_input.loc[df_input['Modifiers Applied']=='Curry sauce', 'Modifiers Applied'] = 'Curry'\n",
    "        modifier_check = df_input.loc[df_input['Item'] == item, 'Modifiers Applied'].unique().tolist()\n",
    "        if len(modifier_check) == 1 and type(modifier_check[0]) is float:\n",
    "            df_pivot = pd.concat([df_pivot, pd.DataFrame([item_key])], axis=0, ignore_index=True)\n",
    "            continue\n",
    "        modifiers_set = set()\n",
    "        for modifier in modifier_check:\n",
    "            if type(modifier) is float:\n",
    "                continue\n",
    "            if ',' in modifier:\n",
    "                modifiers_set.update([item.strip() for item in modifier.split(',')])\n",
    "            else:\n",
    "                modifiers_set.add(modifier.strip())\n",
    "        for modifier in modifiers_set:\n",
    "            number_of_modifier_applied = df_input.dropna(subset=['Modifiers Applied']).loc[(df_input['Item'] == item)\n",
    "                                                                  & (df_input['Modifiers Applied'].str.find(modifier) != -1)]['Qty'].sum()\n",
    "            item_key[modifier] = number_of_modifier_applied\n",
    "        df_pivot = pd.concat([df_pivot, pd.DataFrame([item_key])], axis=0, ignore_index=True)\n",
    "\n",
    "    if not df_shop2_del.empty:\n",
    "        for delitem in df_shop2_del['Item name'].unique().tolist():\n",
    "            if delitem not in lst:\n",
    "                item_key = {'Name': delitem,\n",
    "                            'Quantity_InHouse': 0,\n",
    "                            'Quantity_OnDelivery': df_shop2_del.loc[df_shop2_del['Item name'] == delitem, 'Quantity'].sum()\n",
    "                            }\n",
    "                df_pivot = pd.concat([df_pivot, pd.DataFrame([item_key])], axis=0, ignore_index=True)\n",
    "    return df_pivot"
   ],
   "outputs": [],
   "execution_count": 419
  },
  {
   "cell_type": "markdown",
   "id": "29db47eaf8a1d68e",
   "metadata": {},
   "source": [
    "With a summary of sales for each item we can calculate amounts of ingredients used:"
   ]
  },
  {
   "cell_type": "code",
   "id": "ab1db3fad79389ee",
   "metadata": {
    "ExecuteTime": {
     "end_time": "2025-10-22T10:48:38.995656Z",
     "start_time": "2025-10-22T10:48:38.992800Z"
    }
   },
   "source": [
    "def ingredients_pivoting(store_pivot, ingredients_base_file):\n",
    "    ingredients_count = pd.DataFrame(columns = ['Ingredient', 'Qty'])\n",
    "    numerical_columns = [col for col in\n",
    "                         ['Qty', 'Quantity', 'Quantity_InHouse', 'Quantity_OnDelivery', 'Quantity_Corporate'] if\n",
    "                         col in store_pivot.columns]\n",
    "    for item_n in range(0,len(store_pivot)):\n",
    "        if store_pivot.loc[item_n,'Name'] in ingredients_base_file.sheet_names:\n",
    "            item_info = ingredients_base_file.parse(sheet_name=store_pivot.loc[item_n,'Name'])\n",
    "            for ingredient_n in range(0,len(item_info)):\n",
    "                number_of_items = store_pivot.loc[item_n,numerical_columns].sum()\n",
    "                qty_of_ingredient = item_info.loc[ingredient_n, 'Quantity']\n",
    "                count = number_of_items*qty_of_ingredient\n",
    "                if item_info.loc[ingredient_n, 'Ingredients'] in ingredients_count['Ingredient'].tolist():\n",
    "                    ingredients_count.loc[ingredients_count['Ingredient'].tolist().index(item_info.loc[ingredient_n, 'Ingredients']), 'Qty'] += count\n",
    "                else:\n",
    "                    ingredients_count.loc[len(ingredients_count)] = {'Ingredient': item_info.loc[ingredient_n, 'Ingredients'] , 'Qty': count}\n",
    "            for modifier in store_pivot.drop(columns=numerical_columns,inplace=False).columns[1:]:#store_pivot.columns[4:]:\n",
    "                if not modifier in item_info.columns:\n",
    "                    continue\n",
    "                if not pd.isna(store_pivot.loc[item_n,modifier]):\n",
    "                    for ingredient_addition_n in range(0,len(item_info)):\n",
    "                        if not pd.isna(item_info.loc[ingredient_addition_n, modifier]):\n",
    "                            count = store_pivot.loc[item_n, modifier]*item_info.loc[ingredient_addition_n, modifier]\n",
    "                            if item_info.loc[ingredient_addition_n,'Ingredients'] in ingredients_count['Ingredient'].tolist():\n",
    "                                ingredients_count.loc[ingredients_count['Ingredient'].tolist().index(item_info.loc[ingredient_addition_n, 'Ingredients']), 'Qty'] += count\n",
    "                            else:\n",
    "                                ingredients_count.loc[len(ingredients_count)] = {'Ingredient': item_info.loc[ingredient_addition_n,'Ingredients'], 'Qty': count}\n",
    "        else:\n",
    "            count = store_pivot.loc[item_n, numerical_columns].sum()\n",
    "            if store_pivot.loc[item_n,'Name'] in ingredients_count['Ingredient'].tolist():\n",
    "                ingredients_count.loc[ingredients_count['Ingredient'].tolist().index(store_pivot.loc[item_n, 'Name']), 'Qty'] += count\n",
    "            else:\n",
    "                ingredients_count.loc[len(ingredients_count)] = {'Ingredient': store_pivot.loc[item_n,'Name'], 'Qty': count}\n",
    "    return ingredients_count"
   ],
   "outputs": [],
   "execution_count": 420
  },
  {
   "cell_type": "markdown",
   "id": "c35f5bc6f247f245",
   "metadata": {},
   "source": [
    "Both functions are designed to summarise individual days, for large datasets we need merge functions to put reports together:"
   ]
  },
  {
   "cell_type": "code",
   "id": "ac90ee65db2bdf39",
   "metadata": {
    "ExecuteTime": {
     "end_time": "2025-10-22T10:48:38.998979Z",
     "start_time": "2025-10-22T10:48:38.997243Z"
    }
   },
   "source": [
    "def append_sales_count(total_df, range_df, day):\n",
    "    for platform in ['Quantity_InHouse', 'Quantity_OnDelivery','Quantity_Corporate']:\n",
    "        total_df.loc[len(total_df), ['Day','Platform','Day of week']] = [day.strftime('%Y-%m-%d'), platform, days[day.weekday()]]\n",
    "        total_df.loc[len(total_df)-1, 'Platform'] = platform\n",
    "        for numunit in range(0, len(range_df)):\n",
    "            total_df.loc[len(total_df)-1,range_df.loc[numunit, 'Name']] = 0+range_df.loc[numunit,platform]\n",
    "    total_df = total_df.fillna(0)\n",
    "    return total_df"
   ],
   "outputs": [],
   "execution_count": 421
  },
  {
   "cell_type": "code",
   "id": "8603fd5296e04a90",
   "metadata": {
    "ExecuteTime": {
     "end_time": "2025-10-22T10:48:39.001822Z",
     "start_time": "2025-10-22T10:48:39.000474Z"
    }
   },
   "source": [
    "def append_ingredients_pivot(total_df, range_df, day):\n",
    "    for numingr in range(0, len(total_df)):\n",
    "        position = range_df.index[range_df['Ingredient'] == total_df.loc[numingr,'Ingredient']]\n",
    "        total_df.loc[numingr, day] = 0\n",
    "        if not position.empty:\n",
    "            total_df.loc[numingr, day] += range_df.loc[position[0],'Qty']\n",
    "    return total_df"
   ],
   "outputs": [],
   "execution_count": 422
  },
  {
   "cell_type": "markdown",
   "id": "2ef7ed5816adcb39",
   "metadata": {},
   "source": [
    "Then, for the specific pivot (later forecasted) of used ingredients, will adapt the measure to stockable units for ordering"
   ]
  },
  {
   "cell_type": "code",
   "id": "f0251068115e69fe",
   "metadata": {
    "ExecuteTime": {
     "end_time": "2025-10-22T10:48:39.006498Z",
     "start_time": "2025-10-22T10:48:39.003347Z"
    }
   },
   "source": [
    "def measure_change(ingredients_df, conversion_table, last_week):\n",
    "    ingredients_df = pd.merge(ingredients_df,last_week, on='Ingredient')\n",
    "    for each in days:\n",
    "        ingredients_df[each]=ingredients_df['Qty']*daily_distribution[each]\n",
    "    ingredients_df.insert(2, 'Rounded %', '+0.0%')\n",
    "    ingredients_df.insert(3, 'From last week %', '+0.0%')\n",
    "    ingredients_df['Last_week'] = ingredients_df['Last_week'].astype(float)\n",
    "    for num_ingr in range(len(ingredients_df['Ingredient'])):\n",
    "        sum_rounded=0\n",
    "        try:\n",
    "            for col in ingredients_df.drop(columns=['Rounded %','From last week %'],inplace=False).columns[1:]:\n",
    "                x= float(ingredients_df.loc[num_ingr,col])/float(conversion_table.loc[conversion_table['Ingredient'] == ingredients_df.loc[num_ingr, 'Ingredient'],'Order unit ratio'].tolist()[0])\n",
    "                if col != 'Qty' and col != 'Last_week':\n",
    "                    x=round(x,2)\n",
    "                    sum_rounded+=x\n",
    "                ingredients_df.loc[num_ingr,col] = x\n",
    "            if ingredients_df.loc[num_ingr,'Qty'] != 0:\n",
    "                add_on = (math.ceil(sum_rounded)-ingredients_df.loc[num_ingr,'Qty'])/ingredients_df.loc[num_ingr,'Qty']\n",
    "                add_on_last_week = (math.ceil(sum_rounded)-ingredients_df.loc[num_ingr,'Last_week'])/ingredients_df.loc[num_ingr,'Last_week']\n",
    "            else:\n",
    "                add_on = 0\n",
    "                add_on_last_week = 0\n",
    "            ingredients_df.loc[num_ingr, 'Rounded %'] = f\"{add_on:+.2%}\"\n",
    "            ingredients_df.loc[num_ingr, 'From last week %'] = f\"{add_on_last_week:+.2%}\"\n",
    "            ingredients_df.loc[num_ingr, 'Qty'] = math.ceil(sum_rounded)\n",
    "        except Exception as e:\n",
    "            #print('No ingredient {} found in conversion table'.format(ingredients_df.loc[num_ingr, 'Ingredient']))\n",
    "            for col in ingredients_df.drop(columns=['Rounded %','From last week %'],inplace=False).columns[1:]:\n",
    "                x= float(ingredients_df.loc[num_ingr,col])\n",
    "                if col != 'Qty' and col !='Last_week':\n",
    "                    x=round(x,2)\n",
    "                    sum_rounded+=x\n",
    "                ingredients_df.loc[num_ingr,col] = x\n",
    "            if np.isnan(sum_rounded):\n",
    "                sum_rounded=0\n",
    "            if ingredients_df.loc[num_ingr,'Qty'] != 0:\n",
    "                add_on = (math.ceil(sum_rounded) - ingredients_df.loc[num_ingr, 'Qty']) / ingredients_df.loc[num_ingr, 'Qty']\n",
    "                add_on_last_week = (math.ceil(sum_rounded)-ingredients_df.loc[num_ingr,'Last_week'])/ingredients_df.loc[num_ingr,'Last_week']\n",
    "            else:\n",
    "                add_on = 0\n",
    "                add_on_last_week = 0\n",
    "            ingredients_df.loc[num_ingr, 'Rounded %'] = f\"{add_on:+.2%}\"\n",
    "            ingredients_df.loc[num_ingr, 'From last week %'] = f\"{add_on_last_week:+.2%}\"\n",
    "           # print(add_on,'% on top of forecast')\n",
    "            ingredients_df.loc[num_ingr, 'Qty'] = math.ceil(sum_rounded)\n",
    "    ingredients_df.drop(columns=['Last_week'],inplace=True)\n",
    "    return ingredients_df"
   ],
   "outputs": [],
   "execution_count": 423
  },
  {
   "cell_type": "markdown",
   "id": "63b68cbcbfc5ad03",
   "metadata": {},
   "source": [
    "Now moving on to modeling our forecast. We're processing the by-week sales of individual items to determine what to expect in the next coming week. Starting with determining the weight of tht trend in the series, then model each 8-week window of the series to analyse local 'trend' as autocorrelation beyond 8 decays to zero. Will then apply an adjustment to the predicted value: y_pred+=Eii, where Eii is the second-highest residual, unless it exceeds 10% and stl-residual also exceeds 10%."
   ]
  },
  {
   "cell_type": "code",
   "id": "fe17ea427ca6840b",
   "metadata": {
    "ExecuteTime": {
     "end_time": "2025-10-22T10:48:39.010982Z",
     "start_time": "2025-10-22T10:48:39.008081Z"
    }
   },
   "source": [
    "def modeling(sales_report, to_display):\n",
    "    y = sales_report\n",
    "    forecasted = 0\n",
    "    x = np.array(range(len(y)+1))\n",
    "    x = sm.add_constant(x)\n",
    "\n",
    "    stl = STL(y, period=4)\n",
    "    result = stl.fit()\n",
    "    trend_weight = max(1 - np.var(result.resid, ddof=1) / np.var(result.trend + result.seasonal, ddof=1), 0)\n",
    "\n",
    "    for i in range(len(y)-7):\n",
    "        subset_y = y[i:i + 9]\n",
    "        y_for_mod=subset_y\n",
    "        subset_x = x[i:i + 8]\n",
    "\n",
    "        if len(subset_y)!=len(subset_x):\n",
    "            y_for_mod = subset_y[:-1] #step back if out of range\n",
    "\n",
    "        #linear regression fit\n",
    "        model = sm.OLS(y_for_mod, subset_x)\n",
    "        results = model.fit()\n",
    "        y_pred = results.predict(x[i:i + 9])\n",
    "        #logging residuals\n",
    "        lag = []\n",
    "        lagged_value =[]\n",
    "        for j in range(8):\n",
    "            y_or = subset_y[j]\n",
    "            y_pr = y_pred[j]\n",
    "            if y_pr!= 0:\n",
    "                lag.append(y_or/y_pr)\n",
    "            else:\n",
    "                lag.append(1)\n",
    "            lagged_value.append(y_or - y_pr)\n",
    "\n",
    "        to_lag = (sorted(lagged_value)[-2]) #We adjust model to have second-highest residual as zero-residual\n",
    "        if y_pred[-1]>subset_y[lagged_value.index(sorted(lagged_value)[-2])] and (trend_weight<0.9 or np.isnan(trend_weight)):\n",
    "            to_lag = 0\n",
    "            #unless slope is high and trend unreliable\n",
    "        y_upd = [y+to_lag if sorted(lag)[-2]<1.1 else y+(0.5*sorted(lag)[-1]*sorted(lagged_value)[-1]) for y in y_pred]\n",
    "        #more criteria for adjustment if residual was>10%\n",
    "        forecasted = y_upd[-1]\n",
    "        if to_display:\n",
    "            inperc = 0\n",
    "            if subset_y[-1]!=0:\n",
    "                inperc = round(((y_upd[-1] - subset_y[-1]) / subset_y[-1]) * 100, 1)\n",
    "            if inperc*inperc >0:\n",
    "                plt.plot(x[(i):(i+9),1], y_upd, color='red')\n",
    "                plt.plot(x[i:(i + 9),1], y_pred, color='blue')\n",
    "                plt.scatter(x[i + 8,1], y_pred[-1], color='blue')\n",
    "            print('original= ',subset_y[-1],'predicted= ',y_upd[-1], 'diff= ',inperc)\n",
    "            plt.scatter(x[i + 8:i + 9,1], y_upd[-1], color='red',\n",
    "                        label='diff= {} {}'.format(i, inperc))\n",
    "            plt.plot(x[:-1,1], y, color='blue', label='Original Data')\n",
    "\n",
    "    return forecasted"
   ],
   "outputs": [],
   "execution_count": 424
  },
  {
   "cell_type": "markdown",
   "id": "c64ec271d62cab98",
   "metadata": {},
   "source": [
    "Below will process time series into format suitable for modelling, summarising by-weekly sales, dropping incomplete week records on both ends; the previous functions pivot sales generally, for multiple purposes."
   ]
  },
  {
   "cell_type": "code",
   "id": "30457e89b37f7d04",
   "metadata": {
    "ExecuteTime": {
     "end_time": "2025-10-22T10:48:39.015718Z",
     "start_time": "2025-10-22T10:48:39.012645Z"
    }
   },
   "source": [
    "def forecast_prep(table,store,last_week):\n",
    "    pivot=table\n",
    "    forecast_pivot=pd.DataFrame()\n",
    "    index_of_mon = pivot.loc[pivot['Platform'] == 'Quantity_InHouse', 'Day of week'].tolist().index('Monday')\n",
    "    index_of_sun = len(pivot.loc[pivot['Platform'] == 'Quantity_InHouse', 'Day of week'].tolist()) - 1 - pivot.loc[                                                                                                 pivot['Platform'] == 'Quantity_InHouse', 'Day of week'].tolist()[::-1].index('Sunday')\n",
    "    for item in pivot.columns[3:]:\n",
    "        to_display = False\n",
    "        y_t = []\n",
    "        for day in pivot['Day of week'].unique().tolist():\n",
    "            y = []\n",
    "            for date in pivot.loc[pivot['Day of week'] == day, 'Day'].unique().tolist():\n",
    "                y.append(pivot.loc[\n",
    "                                 (pivot['Day'] == date) & (pivot['Platform'] == 'Quantity_InHouse'), item].tolist()[\n",
    "                                 -1] + pivot.loc[(pivot['Day'] == date) & (\n",
    "                            pivot['Platform'] == 'Quantity_OnDelivery'), item].tolist()[-1])\n",
    "            y_t.append(y)\n",
    "        y = [0]\n",
    "        day_c = 0\n",
    "        for day in pivot['Day'].unique().tolist()[index_of_mon:index_of_sun + 1]:\n",
    "            y[-1] += pivot.loc[(pivot['Day'] == day) & (pivot['Platform'] == 'Quantity_InHouse'), item].tolist()[0] + pivot.loc[(pivot['Day'] == day) & (pivot['Platform'] == 'Quantity_OnDelivery'), item].tolist()[0]\n",
    "            if day_c == 6:\n",
    "                y.append(0)\n",
    "                day_c = 0\n",
    "                continue\n",
    "            day_c += 1\n",
    "        y = y[:-1]\n",
    "        weekly_forecast = -1\n",
    "        if item in units_to_forecast[store]:\n",
    "            if item in ['Chicken roll', 'Beef roll']:\n",
    "                to_display = True\n",
    "            weekly_forecast = modeling(y, to_display)\n",
    "        elif item in units_to_baseline[store]:\n",
    "            window =4\n",
    "            weekly_forecast=np.mean(y[len(y)-window:])\n",
    "        elif item in units_to_ignore[store]:\n",
    "            continue\n",
    "        item_key = {'Name':item, 'Weekly':weekly_forecast}\n",
    "\n",
    "        forecast_pivot = pd.concat([forecast_pivot, pd.DataFrame([item_key])], axis=0, ignore_index=True)\n",
    "\n",
    "\n",
    "    forecast_pivot = pd.merge(forecast_pivot, last_week, on='Name')\n",
    "    forecast_pivot.fillna(0.0,inplace=True)\n",
    "\n",
    "    for modifier in forecast_pivot.columns[5:]:\n",
    "        forecast_pivot[modifier] = (forecast_pivot[modifier] * forecast_pivot['Weekly']) / (forecast_pivot['Quantity_InHouse'] + forecast_pivot['Quantity_OnDelivery'] + forecast_pivot['Quantity_Corporate'])\n",
    "\n",
    "    forecast_pivot.drop(columns=['Quantity_InHouse','Quantity_OnDelivery','Quantity_Corporate'],inplace=True)\n",
    "    if store == 'Shop1':\n",
    "        forecast_pivot.to_csv('forecast_pivot.csv',index=False)\n",
    "    return forecast_pivot\n"
   ],
   "outputs": [],
   "execution_count": 425
  },
  {
   "cell_type": "markdown",
   "id": "6ff6ccbe3001761e",
   "metadata": {},
   "source": [
    "Down to execution of the algorithm"
   ]
  },
  {
   "cell_type": "code",
   "id": "544e0172195097f6",
   "metadata": {
    "ExecuteTime": {
     "end_time": "2025-10-22T10:48:41.367398Z",
     "start_time": "2025-10-22T10:48:39.018685Z"
    }
   },
   "source": [
    "df_input = pull_sales()\n",
    "base = pd.ExcelFile(current_dir+'/'+'Ingredients_base.xlsx')\n",
    "try:\n",
    "    df_input = df_input[['Date','Time','Category', 'Item', 'Qty', 'Modifiers Applied', 'Location', 'Itemisation Type']]\n",
    "except Exception:\n",
    "    raise Exception(\"In record file a change in columns occurred\")\n",
    "\n",
    "df_input = df_no_emoji(df_input, ['Category','Item','Modifiers Applied'])\n",
    "modifiable_position_in_combo = df_input.loc[~df_input['Modifiers Applied'].isnull(),'Item'].unique().tolist()\n",
    "modifiers_of_position_in_combo = {'Extra hot','No pickles', 'No salad', 'No sauce', 'Toncutlet sauce', 'Curry sauce'}\n",
    "df_input = combo_handling(df_input, modifiable_position_in_combo, modifiers_of_position_in_combo)"
   ],
   "outputs": [
    {
     "name": "stdout",
     "output_type": "stream",
     "text": [
      "             Date      Time Time Zone    Category            Item  Qty  \\\n",
      "0      2024-07-25  11:35:22    London   🌯 Rolls 🌯       PORK Roll  1.0   \n",
      "1      2024-07-25  11:35:22    London  🥤 Drinks 🥤           Water  1.0   \n",
      "2      2024-07-25  11:34:47    London   🌯 Rolls 🌯  🐓 Chicken Roll  1.0   \n",
      "3      2024-07-25  11:34:47    London  🥤 Drinks 🥤        🧋Ice Tea  1.0   \n",
      "4      2024-07-25  11:31:28    London   🌯 Rolls 🌯  🐓 Chicken Roll  1.0   \n",
      "...           ...       ...       ...         ...             ...  ...   \n",
      "80440  2024-04-01  11:36:09    London   🌯 Rolls 🌯  🐓 Chicken Roll  1.0   \n",
      "80441  2024-04-01  11:36:09    London   🍟 Sides 🍟      Hash brown  1.0   \n",
      "80442  2024-04-01  11:36:09    London  🥤 Drinks 🥤  Coca Cola Zero  1.0   \n",
      "80443  2024-04-01  11:34:42    London      Cutlet  Chicken cutlet  1.0   \n",
      "80444  2024-04-01  11:31:55    London   🍟 Sides 🍟      Hash brown  2.0   \n",
      "\n",
      "      Modifiers Applied Product Sales Discounts Net Sales    Tax Gross Sales  \\\n",
      "0                   NaN         £9.63     £0.00     £9.63  £0.00       £9.63   \n",
      "1                   NaN         £9.63     £0.00     £9.63  £0.32       £9.63   \n",
      "2                   NaN         £9.63     £0.00     £9.63  £1.60       £9.63   \n",
      "3                   NaN         £9.63     £0.00     £9.63  £0.00       £9.63   \n",
      "4                   NaN         £9.63     £0.00     £9.63  £0.00       £9.63   \n",
      "...                 ...           ...       ...       ...    ...         ...   \n",
      "80440               NaN         £9.63     £0.00     £9.63  £0.00       £9.63   \n",
      "80441               NaN         £9.63     £0.00     £9.63  £0.64       £9.63   \n",
      "80442               NaN         £9.63     £0.00     £9.63  £0.32       £9.63   \n",
      "80443         Toncutlet         £9.63     £0.00     £9.63  £0.00       £9.63   \n",
      "80444               NaN         £9.63     £0.00     £9.63  £1.29       £9.63   \n",
      "\n",
      "      Event Type Location Dining Option            Itemisation Type  \n",
      "0        Payment    Shop1      Takeaway               Physical Item  \n",
      "1        Payment    Shop1      Takeaway               Physical Item  \n",
      "2        Payment    Shop1           NaN  Prepared Food and Beverage  \n",
      "3        Payment    Shop1           NaN  Prepared Food and Beverage  \n",
      "4        Payment    Shop1      Takeaway               Physical Item  \n",
      "...          ...      ...           ...                         ...  \n",
      "80440    Payment    Shop1      Takeaway               Physical Item  \n",
      "80441    Payment    Shop1      Takeaway               Physical Item  \n",
      "80442    Payment    Shop1      Takeaway               Physical Item  \n",
      "80443    Payment    Shop2      Takeaway               Physical Item  \n",
      "80444    Payment    Shop1      Takeaway               Physical Item  \n",
      "\n",
      "[80445 rows x 16 columns]\n"
     ]
    }
   ],
   "execution_count": 426
  },
  {
   "cell_type": "code",
   "id": "e0b3fd44c59855f5",
   "metadata": {
    "ExecuteTime": {
     "end_time": "2025-10-22T10:48:41.393769Z",
     "start_time": "2025-10-22T10:48:41.372188Z"
    }
   },
   "source": [
    "df_input['Date'] = pd.to_datetime(df_input['Date'])\n",
    "df_input = corporate_handling(df_input)\n",
    "df_input = df_input.sort_values(by=['Date','Time'])\n",
    "df_input = df_input.reset_index(drop=True)\n",
    "latest_date = df_input['Date'].max()\n",
    "last_sunday = latest_date - pd.DateOffset(days=latest_date.weekday() + 1)\n",
    "last_monday = last_sunday - pd.DateOffset(days=6)\n",
    "last_week = df_input[(df_input['Date'] >= last_monday) & (df_input['Date'] <= last_sunday)]"
   ],
   "outputs": [
    {
     "name": "stdout",
     "output_type": "stream",
     "text": [
      "No catering records found\n"
     ]
    }
   ],
   "execution_count": 427
  },
  {
   "cell_type": "code",
   "id": "b946513f4654978f",
   "metadata": {
    "ExecuteTime": {
     "end_time": "2025-10-22T10:48:51.046025Z",
     "start_time": "2025-10-22T10:48:41.402147Z"
    }
   },
   "source": [
    "forecast_pivot = pd.DataFrame()\n",
    "with pd.ExcelWriter(current_dir+'/'+'pivot_plus_forecast.xlsx') as writer:\n",
    "    for store in df_input['Location'].unique().tolist():\n",
    "        pivot = pd.DataFrame(columns=['Day'])\n",
    "        forecasted_ingredients=[]\n",
    "        for item in units_to_forecast[store]:\n",
    "            if item in base.sheet_names:\n",
    "                ingredients = base.parse(sheet_name=item)['Ingredients'].tolist()\n",
    "                for each in ingredients:\n",
    "                    if each not in forecasted_ingredients:\n",
    "                        forecasted_ingredients.append(each)\n",
    "\n",
    "        for day in df_input['Date'].unique().tolist():\n",
    "            day_sales = df_pivoting(df_input.loc[(df_input['Date']==day)&(df_input['Location']==store)])\n",
    "            daily_sales= append_sales_count(pivot, day_sales, day)\n",
    "        daily_sales.to_excel(writer, sheet_name='{} daily sales'.format(store), index=False)\n",
    "        print(daily_sales)\n",
    "        last_week_pivot = df_pivoting(last_week.loc[last_week['Location']==store])\n",
    "        forecast_pivot = forecast_prep(daily_sales,store,last_week_pivot)\n",
    "        forecast_pivot.rename(columns={'Weekly':'Quantity'},inplace=True)\n",
    "        total_forecast = ingredients_pivoting(forecast_pivot, base)\n",
    "\n",
    "        last_week_ingr = ingredients_pivoting(last_week_pivot,base)\n",
    "        last_week_ingr.rename(columns={'Qty': 'Last_week'}, inplace=True)\n",
    "        total_forecast = measure_change(total_forecast,pd.DataFrame(pd.read_csv(current_dir+'/'+'Measure_conversion.csv')), last_week_ingr)\n",
    "        total_forecast.insert(2, 'Principle', 'Par level')\n",
    "        for ingredient in forecasted_ingredients:\n",
    "            total_forecast.loc[total_forecast['Ingredient'] == ingredient,'Principle'] = 'Forecasted'\n",
    "        total_forecast.to_excel(writer, sheet_name='{} forecast'.format(store), index=False)"
   ],
   "outputs": [
    {
     "name": "stdout",
     "output_type": "stream",
     "text": [
      "            Day             Platform Day of week  Hash brown  Coca cola zero  \\\n",
      "0    2024-04-01     Quantity_InHouse      Monday        81.0            20.0   \n",
      "1    2024-04-01  Quantity_OnDelivery      Monday        36.0            13.0   \n",
      "2    2024-04-01   Quantity_Corporate      Monday         0.0             0.0   \n",
      "3    2024-04-02     Quantity_InHouse     Tuesday        35.0            14.0   \n",
      "4    2024-04-02  Quantity_OnDelivery     Tuesday        30.0            10.0   \n",
      "..          ...                  ...         ...         ...             ...   \n",
      "343  2024-07-24  Quantity_OnDelivery   Wednesday        73.0            26.0   \n",
      "344  2024-07-24   Quantity_Corporate   Wednesday         0.0             0.0   \n",
      "345  2024-07-25     Quantity_InHouse    Thursday         0.0             1.0   \n",
      "346  2024-07-25  Quantity_OnDelivery    Thursday         2.0             0.0   \n",
      "347  2024-07-25   Quantity_Corporate    Thursday         0.0             0.0   \n",
      "\n",
      "     Chicken roll  Vegetarian special  Beef roll  Flat iron roll  Coca cola  \\\n",
      "0            69.0                17.0       33.0            22.0       13.0   \n",
      "1            33.0                 8.0       31.0            19.0       10.0   \n",
      "2             0.0                 0.0        0.0             0.0        0.0   \n",
      "3            63.0                10.0       21.0            22.0       11.0   \n",
      "4            31.0                 4.0       19.0            21.0        3.0   \n",
      "..            ...                 ...        ...             ...        ...   \n",
      "343          76.0                11.0       49.0             0.0       17.0   \n",
      "344           0.0                 0.0        0.0             0.0        0.0   \n",
      "345           1.0                 0.0        0.0             0.0        0.0   \n",
      "346           2.0                 0.0        1.0             0.0        0.0   \n",
      "347           0.0                 0.0        0.0             0.0        0.0   \n",
      "\n",
      "     ...  Coleslaw  House pickles  Xxl hash brown  Lemon aioli  Custom amount  \\\n",
      "0    ...       4.0            4.0             3.0          0.0            0.0   \n",
      "1    ...       0.0            0.0             0.0          0.0            0.0   \n",
      "2    ...       0.0            0.0             0.0          0.0            0.0   \n",
      "3    ...      12.0            4.0             4.0          1.0            0.0   \n",
      "4    ...       0.0            0.0             0.0          0.0            0.0   \n",
      "..   ...       ...            ...             ...          ...            ...   \n",
      "343  ...       0.0            0.0             0.0          0.0            0.0   \n",
      "344  ...       0.0            0.0             0.0          0.0            0.0   \n",
      "345  ...       0.0            0.0             0.0          0.0            0.0   \n",
      "346  ...       0.0            0.0             0.0          0.0            0.0   \n",
      "347  ...       0.0            0.0             0.0          0.0            0.0   \n",
      "\n",
      "     Chipotle mayo  House ice tea  Ice tea  Pork tater tots  Dry beef  \n",
      "0              0.0            0.0      0.0              0.0       0.0  \n",
      "1              0.0            0.0      0.0              0.0       0.0  \n",
      "2              0.0            0.0      0.0              0.0       0.0  \n",
      "3              0.0            0.0      0.0              0.0       0.0  \n",
      "4              0.0            0.0      0.0              0.0       0.0  \n",
      "..             ...            ...      ...              ...       ...  \n",
      "343            0.0            0.0     13.0              6.0      30.0  \n",
      "344            0.0            0.0      0.0              0.0       0.0  \n",
      "345            0.0            0.0      0.0              0.0       0.0  \n",
      "346            0.0            0.0      1.0              1.0       0.0  \n",
      "347            0.0            0.0      0.0              0.0       0.0  \n",
      "\n",
      "[348 rows x 23 columns]\n",
      "original=  1041.0 predicted=  1057.6666666666665 diff=  1.6\n",
      "original=  960.0 predicted=  1053.9285714285716 diff=  9.8\n",
      "original=  1030.0 predicted=  1063.5714285714282 diff=  3.3\n",
      "original=  1078.0 predicted=  1046.9999999999995 diff=  -2.9\n",
      "original=  1078.0 predicted=  1103.714285714286 diff=  2.4\n",
      "original=  1087.0 predicted=  1122.1904761904761 diff=  3.2\n",
      "original=  1117.0 predicted=  1147.916666666667 diff=  2.8\n",
      "original=  1116.0 predicted=  1150.761904761905 diff=  3.1\n",
      "original=  1116.0 predicted=  1166.154761904762 diff=  4.5\n",
      "original=  750.0 predicted=  763.6428571428571 diff=  1.8\n",
      "original=  743.0 predicted=  784.9285714285716 diff=  5.6\n",
      "original=  749.0 predicted=  806.1666666666666 diff=  7.6\n",
      "original=  787.0 predicted=  823.142857142857 diff=  4.6\n",
      "original=  755.0 predicted=  848.0476190476192 diff=  12.3\n",
      "original=  659.0 predicted=  849.5714285714287 diff=  28.9\n",
      "original=  683.0 predicted=  790.7857142857146 diff=  15.8\n",
      "original=  719.0 predicted=  729.6428571428573 diff=  1.5\n",
      "original=  719.0 predicted=  716.0 diff=  -0.4\n",
      "            Ingredient    Qty   Principle Rounded % From last week %  Monday  \\\n",
      "0           Hash brown   18.0  Forecasted    +8.87%          +24.14%    2.48   \n",
      "1              Ketchup   13.0  Forecasted    +5.31%          +20.07%    1.85   \n",
      "2       Coca cola zero   14.0   Par level    +9.36%           +5.99%    1.92   \n",
      "3                 Wrap   62.0  Forecasted    +5.05%           +3.59%    8.85   \n",
      "4              Chicken   24.0  Forecasted    +7.02%          +11.83%    3.36   \n",
      "5              Lettuce   62.0  Forecasted    +6.43%          +11.21%    8.74   \n",
      "6      Pickled peppers   17.0  Forecasted    +7.76%          +12.60%    2.37   \n",
      "7          Garlic mayo   21.0  Forecasted    +5.13%           +9.85%    3.00   \n",
      "8            Hot sauce    1.0  Forecasted   +14.34%           +5.63%    0.13   \n",
      "9        Burger cheese    2.0  Forecasted   +10.01%           +9.57%    0.27   \n",
      "10             Cabbage   34.0  Forecasted    +8.15%          +12.58%    4.72   \n",
      "11           Mushrooms    7.0  Forecasted   +11.52%          +15.70%    0.94   \n",
      "12                Miso    2.0  Forecasted   +75.24%          +81.82%    0.17   \n",
      "13           Nori mayo    4.0  Forecasted   +37.53%          +42.69%    0.44   \n",
      "14         Red lettuce   44.0  Forecasted    +7.09%          +11.11%    6.16   \n",
      "15  Caramelised onions    5.0  Forecasted    +9.56%           +9.10%    0.68   \n",
      "16              Burger  108.0  Forecasted    +5.90%           +5.46%   15.30   \n",
      "17          Red onions    2.0  Forecasted   +34.08%          +33.52%    0.22   \n",
      "18         Burger mayo    7.0  Forecasted   +13.71%          +13.24%    0.92   \n",
      "19           Coca cola   11.0   Par level    +9.20%           +2.33%    1.51   \n",
      "20       Japanese mayo   38.0  Forecasted    +5.96%          +10.41%    5.38   \n",
      "21                Pork    6.0  Forecasted   +17.11%          +22.03%    0.77   \n",
      "22           Apple jam    5.0  Forecasted   +11.54%          +16.22%    0.67   \n",
      "23           Toncutlet    3.0  Forecasted   +46.39%          +52.54%    0.31   \n",
      "24               Water    6.0   Par level   +10.13%           +7.46%    0.82   \n",
      "25          Craft beer    1.0   Par level   +23.08%           +9.09%    0.12   \n",
      "26            Coleslaw  183.0   Par level    +5.48%          +21.19%   26.02   \n",
      "27             Ice tea  236.0   Par level    +5.43%          +74.81%   33.58   \n",
      "28     Pork tater tots  283.0   Par level    +5.37%          +15.51%   40.29   \n",
      "29            Dry beef  137.0   Par level    +5.38%          -47.31%   19.50   \n",
      "\n",
      "    Tuesday  Wednesday  Thursday  Friday  Saturday  Sunday  \n",
      "0      2.48       1.65      3.31    3.31      2.48    1.65  \n",
      "1      1.85       1.23      2.47    2.47      1.85    1.23  \n",
      "2      1.92       1.28      2.56    2.56      1.92    1.28  \n",
      "3      8.85       5.90     11.80   11.80      8.85    5.90  \n",
      "4      3.36       2.24      4.49    4.49      3.36    2.24  \n",
      "5      8.74       5.83     11.65   11.65      8.74    5.83  \n",
      "6      2.37       1.58      3.16    3.16      2.37    1.58  \n",
      "7      3.00       2.00      4.00    4.00      3.00    2.00  \n",
      "8      0.13       0.09      0.17    0.17      0.13    0.09  \n",
      "9      0.27       0.18      0.36    0.36      0.27    0.18  \n",
      "10     4.72       3.14      6.29    6.29      4.72    3.14  \n",
      "11     0.94       0.63      1.26    1.26      0.94    0.63  \n",
      "12     0.17       0.11      0.23    0.23      0.17    0.11  \n",
      "13     0.44       0.29      0.58    0.58      0.44    0.29  \n",
      "14     6.16       4.11      8.22    8.22      6.16    4.11  \n",
      "15     0.68       0.46      0.91    0.91      0.68    0.46  \n",
      "16    15.30      10.20     20.40   20.40     15.30   10.20  \n",
      "17     0.22       0.15      0.30    0.30      0.22    0.15  \n",
      "18     0.92       0.62      1.23    1.23      0.92    0.62  \n",
      "19     1.51       1.01      2.01    2.01      1.51    1.01  \n",
      "20     5.38       3.59      7.17    7.17      5.38    3.59  \n",
      "21     0.77       0.51      1.02    1.02      0.77    0.51  \n",
      "22     0.67       0.45      0.90    0.90      0.67    0.45  \n",
      "23     0.31       0.20      0.41    0.41      0.31    0.20  \n",
      "24     0.82       0.54      1.09    1.09      0.82    0.54  \n",
      "25     0.12       0.08      0.16    0.16      0.12    0.08  \n",
      "26    26.02      17.35     34.70   34.70     26.02   17.35  \n",
      "27    33.58      22.38     44.77   44.77     33.58   22.38  \n",
      "28    40.29      26.86     53.71   53.71     40.29   26.86  \n",
      "29    19.50      13.00     26.00   26.00     19.50   13.00  \n",
      "            Day             Platform Day of week  Chicken cutlet  Coca cola  \\\n",
      "0    2024-04-01     Quantity_InHouse      Monday            41.0       15.0   \n",
      "1    2024-04-01  Quantity_OnDelivery      Monday             0.0        0.0   \n",
      "2    2024-04-01   Quantity_Corporate      Monday             0.0        0.0   \n",
      "3    2024-04-02     Quantity_InHouse     Tuesday            49.0        7.0   \n",
      "4    2024-04-02  Quantity_OnDelivery     Tuesday             0.0        0.0   \n",
      "..          ...                  ...         ...             ...        ...   \n",
      "343  2024-07-24  Quantity_OnDelivery   Wednesday             0.0        0.0   \n",
      "344  2024-07-24   Quantity_Corporate   Wednesday             0.0        0.0   \n",
      "345  2024-07-25     Quantity_InHouse    Thursday             0.0        0.0   \n",
      "346  2024-07-25  Quantity_OnDelivery    Thursday             0.0        0.0   \n",
      "347  2024-07-25   Quantity_Corporate    Thursday             0.0        0.0   \n",
      "\n",
      "     Coca cola zero  Tofu cutlet  Grilled zucchinis  Water  Chicken thighs  \\\n",
      "0              10.0         11.0                3.0    8.0            34.0   \n",
      "1               0.0          0.0                0.0    0.0             0.0   \n",
      "2               0.0          0.0                0.0    0.0             0.0   \n",
      "3               3.0          8.0                2.0    6.0            20.0   \n",
      "4               0.0          0.0                0.0    0.0             0.0   \n",
      "..              ...          ...                ...    ...             ...   \n",
      "343             0.0          0.0                0.0    0.0             0.0   \n",
      "344             0.0          0.0                0.0    0.0             0.0   \n",
      "345             0.0          0.0                0.0    0.0             0.0   \n",
      "346             0.0          0.0                0.0    0.0             0.0   \n",
      "347             0.0          0.0                0.0    0.0             0.0   \n",
      "\n",
      "     ...  Curry sauce  Tiramisu  Poppers chicken  Butter corn  Steak cutlet  \\\n",
      "0    ...          0.0       0.0              0.0          0.0           0.0   \n",
      "1    ...          0.0       0.0              0.0          0.0           0.0   \n",
      "2    ...          0.0       0.0              0.0          0.0           0.0   \n",
      "3    ...          0.0       0.0              0.0          0.0           0.0   \n",
      "4    ...          0.0       0.0              0.0          0.0           0.0   \n",
      "..   ...          ...       ...              ...          ...           ...   \n",
      "343  ...          0.0       0.0              0.0          0.0           0.0   \n",
      "344  ...          0.0       0.0              0.0          0.0           0.0   \n",
      "345  ...          0.0       0.0              0.0          0.0           0.0   \n",
      "346  ...          0.0       0.0              0.0          0.0           0.0   \n",
      "347  ...          0.0       0.0              0.0          0.0           0.0   \n",
      "\n",
      "     Shop2 gourmet  House ice tea  Chicken wrap  Tofu wrap  Steak wrap  \n",
      "0              0.0            0.0           0.0        0.0         0.0  \n",
      "1              0.0            0.0           0.0        0.0         0.0  \n",
      "2              0.0            0.0           0.0        0.0         0.0  \n",
      "3              0.0            0.0           0.0        0.0         0.0  \n",
      "4              0.0            0.0           0.0        0.0         0.0  \n",
      "..             ...            ...           ...        ...         ...  \n",
      "343            0.0            0.0           0.0        0.0         0.0  \n",
      "344            0.0            0.0           0.0        0.0         0.0  \n",
      "345            0.0            0.0           0.0        0.0         0.0  \n",
      "346            0.0            0.0           0.0        0.0         0.0  \n",
      "347            0.0            0.0           0.0        0.0         0.0  \n",
      "\n",
      "[348 rows x 35 columns]\n",
      "             Ingredient      Qty   Principle Rounded % From last week %  \\\n",
      "0               Chicken      6.0  Forecasted    +6.26%           +3.31%   \n",
      "1                 Flour   1270.0  Forecasted    +5.01%           +5.48%   \n",
      "2        Pasterised egg   6350.0  Forecasted    +5.01%           +5.48%   \n",
      "3           Breadcrumbs   4445.0  Forecasted    +5.01%           +5.48%   \n",
      "4                  Rice  69841.0  Forecasted    +5.00%           +5.47%   \n",
      "5               Cabbage     43.0  Forecasted    +6.67%           +7.14%   \n",
      "6                Ginger   6350.0  Forecasted    +5.01%           +5.48%   \n",
      "7          Citrus ponzu   6350.0  Forecasted    +5.01%           +5.48%   \n",
      "8          Spring onion   5080.0  Forecasted    +5.01%           +5.48%   \n",
      "9             Toncutlet     11.0  Forecasted   +14.19%          +15.79%   \n",
      "10                Curry     11.0  Forecasted    +5.69%           +5.50%   \n",
      "11                 Miso      3.0  Forecasted   +48.84%          +49.50%   \n",
      "12      Pickled raddish   6350.0  Forecasted    +5.01%           +5.48%   \n",
      "13            Coca cola      4.0   Par level   +39.13%          +17.07%   \n",
      "14       Coca cola zero      4.0   Par level   +23.87%          +10.34%   \n",
      "15                 Tofu   7449.0  Forecasted    +5.00%           +9.54%   \n",
      "16                Water      3.0   Par level   +30.32%          +33.33%   \n",
      "17       Chicken thighs    156.0   Par level    +5.30%          +30.00%   \n",
      "18                 Pork      3.0  Forecasted   +24.58%          +21.62%   \n",
      "19             Coleslaw     10.0   Par level   +11.11%         +150.00%   \n",
      "20             Sake can     12.0   Par level   +11.63%          -25.00%   \n",
      "21       Chicken hearts     51.0   Par level    +5.65%          +41.67%   \n",
      "22  Burnt buttered corn     50.0   Par level    +6.15%          +47.06%   \n",
      "23        Ice green tea     14.0   Par level    +7.69%          -12.50%   \n",
      "24        Ice green tee     14.0   Par level    +9.80%          -39.13%   \n",
      "25      Poppers chicken     57.0   Par level    +6.55%          +72.73%   \n",
      "26          Butter corn     -1.0   Par level    -0.00%         -150.00%   \n",
      "27         Steak cutlet  11045.0  Forecasted    +5.00%          +19.53%   \n",
      "28        House ice tea     81.0   Par level    +6.09%          +58.82%   \n",
      "29         Chicken wrap    118.0   Par level    +5.07%          +71.01%   \n",
      "30            Tofu wrap     37.0   Par level    +7.85%          +85.00%   \n",
      "31           Steak wrap     20.0   Par level    +5.55%          +11.11%   \n",
      "\n",
      "     Monday  Tuesday  Wednesday  Thursday    Friday  Saturday   Sunday  \n",
      "0      0.85     0.85       0.56      1.13      1.13      0.85     0.56  \n",
      "1    181.40   181.40     120.94    241.87    241.87    181.40   120.94  \n",
      "2    907.01   907.01     604.68   1209.35   1209.35    907.01   604.68  \n",
      "3    634.91   634.91     423.27    846.55    846.55    634.91   423.27  \n",
      "4   9977.16  9977.16    6651.44  13302.88  13302.88   9977.16  6651.44  \n",
      "5      6.05     6.05       4.03      8.06      8.06      6.05     4.03  \n",
      "6    907.01   907.01     604.68   1209.35   1209.35    907.01   604.68  \n",
      "7    907.01   907.01     604.68   1209.35   1209.35    907.01   604.68  \n",
      "8    725.61   725.61     483.74    967.48    967.48    725.61   483.74  \n",
      "9      1.45     1.45       0.96      1.93      1.93      1.45     0.96  \n",
      "10     1.56     1.56       1.04      2.08      2.08      1.56     1.04  \n",
      "11     0.30     0.30       0.20      0.40      0.40      0.30     0.20  \n",
      "12   907.01   907.01     604.68   1209.35   1209.35    907.01   604.68  \n",
      "13     0.43     0.43       0.29      0.58      0.58      0.43     0.29  \n",
      "14     0.48     0.48       0.32      0.65      0.65      0.48     0.32  \n",
      "15  1064.14  1064.14     709.43   1418.85   1418.85   1064.14   709.43  \n",
      "16     0.35     0.35       0.23      0.46      0.46      0.35     0.23  \n",
      "17    22.22    22.22      14.82     29.63     29.63     22.22    14.82  \n",
      "18     0.36     0.36       0.24      0.48      0.48      0.36     0.24  \n",
      "19     1.35     1.35       0.90      1.80      1.80      1.35     0.90  \n",
      "20     1.61     1.61       1.07      2.15      2.15      1.61     1.07  \n",
      "21     7.24     7.24       4.83      9.65      9.65      7.24     4.83  \n",
      "22     7.07     7.07       4.71      9.42      9.42      7.07     4.71  \n",
      "23     1.95     1.95       1.30      2.60      2.60      1.95     1.30  \n",
      "24     1.91     1.91       1.28      2.55      2.55      1.91     1.28  \n",
      "25     8.02     8.02       5.35     10.70     10.70      8.02     5.35  \n",
      "26    -0.15    -0.15      -0.10     -0.20     -0.20     -0.15    -0.10  \n",
      "27  1577.84  1577.84    1051.89   2103.79   2103.79   1577.84  1051.89  \n",
      "28    11.45    11.45       7.64     15.27     15.27     11.45     7.64  \n",
      "29    16.85    16.85      11.23     22.46     22.46     16.85    11.23  \n",
      "30     5.15     5.15       3.43      6.86      6.86      5.15     3.43  \n",
      "31     2.84     2.84       1.89      3.79      3.79      2.84     1.89  \n"
     ]
    },
    {
     "data": {
      "text/plain": [
       "<Figure size 640x480 with 1 Axes>"
      ],
      "image/png": "[encoded data removed]"
     },
     "metadata": {},
     "output_type": "display_data",
     "jetTransient": {
      "display_id": null
     }
    }
   ],
   "execution_count": 428
  },
  {
   "cell_type": "markdown",
   "id": "f6439c9bb39a9873",
   "metadata": {},
   "source": "And after all data manipulation and forecasting we're left with the output 'pivot_plus_forecast' of by-day sales report and a forecast of use of in ingredients next coming week, with a percentage reference to previous week's sales. This is a direct template sheet for production scheduling, amounts to order. The chart above is an optional display of weekly sales + model fit vs ordinal number of the week, starting from first complete week of sales report. This allows to reflect on performance, merit, trends of items of the menu."
  },
  {
   "metadata": {
    "ExecuteTime": {
     "end_time": "2025-10-22T10:54:12.925265Z",
     "start_time": "2025-10-22T10:54:12.915622Z"
    }
   },
   "cell_type": "code",
   "source": "print(total_forecast)",
   "id": "fc477f7733e25f70",
   "outputs": [
    {
     "name": "stdout",
     "output_type": "stream",
     "text": [
      "             Ingredient      Qty   Principle Rounded % From last week %  \\\n",
      "0               Chicken      6.0  Forecasted    +6.26%           +3.31%   \n",
      "1                 Flour   1270.0  Forecasted    +5.01%           +5.48%   \n",
      "2        Pasterised egg   6350.0  Forecasted    +5.01%           +5.48%   \n",
      "3           Breadcrumbs   4445.0  Forecasted    +5.01%           +5.48%   \n",
      "4                  Rice  69841.0  Forecasted    +5.00%           +5.47%   \n",
      "5               Cabbage     43.0  Forecasted    +6.67%           +7.14%   \n",
      "6                Ginger   6350.0  Forecasted    +5.01%           +5.48%   \n",
      "7          Citrus ponzu   6350.0  Forecasted    +5.01%           +5.48%   \n",
      "8          Spring onion   5080.0  Forecasted    +5.01%           +5.48%   \n",
      "9             Toncutlet     11.0  Forecasted   +14.19%          +15.79%   \n",
      "10                Curry     11.0  Forecasted    +5.69%           +5.50%   \n",
      "11                 Miso      3.0  Forecasted   +48.84%          +49.50%   \n",
      "12      Pickled raddish   6350.0  Forecasted    +5.01%           +5.48%   \n",
      "13            Coca cola      4.0   Par level   +39.13%          +17.07%   \n",
      "14       Coca cola zero      4.0   Par level   +23.87%          +10.34%   \n",
      "15                 Tofu   7449.0  Forecasted    +5.00%           +9.54%   \n",
      "16                Water      3.0   Par level   +30.32%          +33.33%   \n",
      "17       Chicken thighs    156.0   Par level    +5.30%          +30.00%   \n",
      "18                 Pork      3.0  Forecasted   +24.58%          +21.62%   \n",
      "19             Coleslaw     10.0   Par level   +11.11%         +150.00%   \n",
      "20             Sake can     12.0   Par level   +11.63%          -25.00%   \n",
      "21       Chicken hearts     51.0   Par level    +5.65%          +41.67%   \n",
      "22  Burnt buttered corn     50.0   Par level    +6.15%          +47.06%   \n",
      "23        Ice green tea     14.0   Par level    +7.69%          -12.50%   \n",
      "24        Ice green tee     14.0   Par level    +9.80%          -39.13%   \n",
      "25      Poppers chicken     57.0   Par level    +6.55%          +72.73%   \n",
      "26          Butter corn     -1.0   Par level    -0.00%         -150.00%   \n",
      "27         Steak cutlet  11045.0  Forecasted    +5.00%          +19.53%   \n",
      "28        House ice tea     81.0   Par level    +6.09%          +58.82%   \n",
      "29         Chicken wrap    118.0   Par level    +5.07%          +71.01%   \n",
      "30            Tofu wrap     37.0   Par level    +7.85%          +85.00%   \n",
      "31           Steak wrap     20.0   Par level    +5.55%          +11.11%   \n",
      "\n",
      "     Monday  Tuesday  Wednesday  Thursday    Friday  Saturday   Sunday  \n",
      "0      0.85     0.85       0.56      1.13      1.13      0.85     0.56  \n",
      "1    181.40   181.40     120.94    241.87    241.87    181.40   120.94  \n",
      "2    907.01   907.01     604.68   1209.35   1209.35    907.01   604.68  \n",
      "3    634.91   634.91     423.27    846.55    846.55    634.91   423.27  \n",
      "4   9977.16  9977.16    6651.44  13302.88  13302.88   9977.16  6651.44  \n",
      "5      6.05     6.05       4.03      8.06      8.06      6.05     4.03  \n",
      "6    907.01   907.01     604.68   1209.35   1209.35    907.01   604.68  \n",
      "7    907.01   907.01     604.68   1209.35   1209.35    907.01   604.68  \n",
      "8    725.61   725.61     483.74    967.48    967.48    725.61   483.74  \n",
      "9      1.45     1.45       0.96      1.93      1.93      1.45     0.96  \n",
      "10     1.56     1.56       1.04      2.08      2.08      1.56     1.04  \n",
      "11     0.30     0.30       0.20      0.40      0.40      0.30     0.20  \n",
      "12   907.01   907.01     604.68   1209.35   1209.35    907.01   604.68  \n",
      "13     0.43     0.43       0.29      0.58      0.58      0.43     0.29  \n",
      "14     0.48     0.48       0.32      0.65      0.65      0.48     0.32  \n",
      "15  1064.14  1064.14     709.43   1418.85   1418.85   1064.14   709.43  \n",
      "16     0.35     0.35       0.23      0.46      0.46      0.35     0.23  \n",
      "17    22.22    22.22      14.82     29.63     29.63     22.22    14.82  \n",
      "18     0.36     0.36       0.24      0.48      0.48      0.36     0.24  \n",
      "19     1.35     1.35       0.90      1.80      1.80      1.35     0.90  \n",
      "20     1.61     1.61       1.07      2.15      2.15      1.61     1.07  \n",
      "21     7.24     7.24       4.83      9.65      9.65      7.24     4.83  \n",
      "22     7.07     7.07       4.71      9.42      9.42      7.07     4.71  \n",
      "23     1.95     1.95       1.30      2.60      2.60      1.95     1.30  \n",
      "24     1.91     1.91       1.28      2.55      2.55      1.91     1.28  \n",
      "25     8.02     8.02       5.35     10.70     10.70      8.02     5.35  \n",
      "26    -0.15    -0.15      -0.10     -0.20     -0.20     -0.15    -0.10  \n",
      "27  1577.84  1577.84    1051.89   2103.79   2103.79   1577.84  1051.89  \n",
      "28    11.45    11.45       7.64     15.27     15.27     11.45     7.64  \n",
      "29    16.85    16.85      11.23     22.46     22.46     16.85    11.23  \n",
      "30     5.15     5.15       3.43      6.86      6.86      5.15     3.43  \n",
      "31     2.84     2.84       1.89      3.79      3.79      2.84     1.89  \n"
     ]
    }
   ],
   "execution_count": 432
  }
 ],
 "metadata": {
  "kernelspec": {
   "display_name": "Python 3 (ipykernel)",
   "language": "python",
   "name": "python3"
  },
  "language_info": {
   "codemirror_mode": {
    "name": "ipython",
    "version": 3
   },
   "file_extension": ".py",
   "mimetype": "text/x-python",
   "name": "python",
   "nbconvert_exporter": "python",
   "pygments_lexer": "ipython3",
   "version": "3.13.5"
  }
 },
 "nbformat": 4,
 "nbformat_minor": 5
}
